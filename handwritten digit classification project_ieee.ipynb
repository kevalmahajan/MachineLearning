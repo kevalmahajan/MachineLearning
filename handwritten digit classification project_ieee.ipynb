{
 "cells": [
  {
   "cell_type": "code",
   "execution_count": 1,
   "metadata": {},
   "outputs": [
    {
     "name": "stdout",
     "output_type": "stream",
     "text": [
      "Done importing ,  2.0.0-alpha0\n"
     ]
    }
   ],
   "source": [
    "import tensorflow as tf\n",
    "print(\"Done importing , \",tf.__version__)"
   ]
  },
  {
   "cell_type": "code",
   "execution_count": 3,
   "metadata": {},
   "outputs": [],
   "source": [
    "from tensorflow.keras.datasets import mnist\n",
    "(x_train,y_train),(x_test,y_test)=mnist.load_data()"
   ]
  },
  {
   "cell_type": "code",
   "execution_count": 5,
   "metadata": {},
   "outputs": [
    {
     "name": "stdout",
     "output_type": "stream",
     "text": [
      "x_train shape :  (60000, 28, 28)\n",
      "y_train shape :  (60000,)\n",
      "x_test shape :  (10000, 28, 28)\n",
      "y_test shape :  (10000,)\n"
     ]
    }
   ],
   "source": [
    "print('x_train shape : ',x_train.shape)\n",
    "print('y_train shape : ',y_train.shape)\n",
    "print('x_test shape : ',x_test.shape)\n",
    "print('y_test shape : ',y_test.shape)"
   ]
  },
  {
   "cell_type": "code",
   "execution_count": 6,
   "metadata": {},
   "outputs": [],
   "source": [
    "import matplotlib.pyplot as plt"
   ]
  },
  {
   "cell_type": "code",
   "execution_count": 7,
   "metadata": {},
   "outputs": [
    {
     "data": {
      "text/plain": [
       "<matplotlib.image.AxesImage at 0x23c4caf5ec8>"
      ]
     },
     "execution_count": 7,
     "metadata": {},
     "output_type": "execute_result"
    },
    {
     "data": {
      "image/png": "[encoded data removed]",
      "text/plain": [
       "<Figure size 432x288 with 1 Axes>"
      ]
     },
     "metadata": {
      "needs_background": "light"
     },
     "output_type": "display_data"
    }
   ],
   "source": [
    "plt.imshow(x_train[2],cmap='binary')  #example image from dataset"
   ]
  },
  {
   "cell_type": "code",
   "execution_count": 8,
   "metadata": {},
   "outputs": [
    {
     "data": {
      "text/plain": [
       "4"
      ]
     },
     "execution_count": 8,
     "metadata": {},
     "output_type": "execute_result"
    }
   ],
   "source": [
    "y_train[2]      #label to the corresponding image"
   ]
  },
  {
   "cell_type": "code",
   "execution_count": 9,
   "metadata": {},
   "outputs": [],
   "source": [
    "from tensorflow.keras.utils import to_categorical\n",
    "\n",
    "y_train_encoded=to_categorical(y_train)\n",
    "y_test_encoded=to_categorical(y_test)"
   ]
  },
  {
   "cell_type": "code",
   "execution_count": 10,
   "metadata": {},
   "outputs": [
    {
     "name": "stdout",
     "output_type": "stream",
     "text": [
      "(60000, 10)\n",
      "(10000, 10)\n"
     ]
    }
   ],
   "source": [
    "print(y_train_encoded.shape)\n",
    "print(y_test_encoded.shape)"
   ]
  },
  {
   "cell_type": "code",
   "execution_count": 11,
   "metadata": {},
   "outputs": [
    {
     "name": "stdout",
     "output_type": "stream",
     "text": [
      "(60000, 784)\n",
      "(10000, 784)\n"
     ]
    }
   ],
   "source": [
    "import numpy as np\n",
    "x_train_reshaped=np.reshape(x_train,(60000,784))\n",
    "x_test_reshaped=np.reshape(x_test,(10000,784))\n",
    "print(x_train_reshaped.shape)\n",
    "print(x_test_reshaped.shape)"
   ]
  },
  {
   "cell_type": "code",
   "execution_count": 12,
   "metadata": {},
   "outputs": [
    {
     "name": "stdout",
     "output_type": "stream",
     "text": [
      "{0, 2, 5, 137, 14, 143, 16, 144, 150, 23, 153, 27, 28, 29, 159, 162, 163, 39, 40, 169, 46, 47, 49, 178, 179, 180, 177, 183, 56, 57, 62, 67, 198, 207, 81, 210, 85, 86, 216, 91, 220, 222, 94, 248, 96, 98, 102, 231, 232, 233, 234, 250, 237, 240, 241, 243, 116, 245, 119, 120, 253, 126, 252, 125, 254, 255}\n"
     ]
    }
   ],
   "source": [
    "print(set(x_train_reshaped[2]))"
   ]
  },
  {
   "cell_type": "code",
   "execution_count": 13,
   "metadata": {},
   "outputs": [],
   "source": [
    "x_mean=np.mean(x_train_reshaped)\n",
    "x_std=np.std(x_train_reshaped)\n",
    "epsilon= 1e-10\n",
    "x_train_norm=(x_train_reshaped - x_mean)/ (x_std + epsilon)\n",
    "x_test_norm=(x_test_reshaped - x_mean)/ (x_std + epsilon)"
   ]
  },
  {
   "cell_type": "code",
   "execution_count": 14,
   "metadata": {},
   "outputs": [
    {
     "name": "stdout",
     "output_type": "stream",
     "text": [
      "{-0.4240738943910262, 0.36505657182371787, 2.5288013985415647, 0.4286961255507134, 0.6068868759863008, 1.1032753950568654, 1.8669500397808114, 1.17964285952926, 1.6505755571090268, 1.5232964496550359, 2.2487873621427843, 2.3760664695967755, 2.4015222910875735, 2.694264238231753, 2.096052433197995, 2.73244797046795, 2.668808416740955, 0.772349715676489, 1.396017342201045, 0.8232613586580854, 0.7978055371672873, 1.166914948783861, 1.4851127174188385, 1.8287663075446141, 0.1995937321335296, 2.8088154349403447, 2.7833596134495466, 2.7960875241949457, 2.7579037919587486, 2.8215433456857437, 0.8741730016396818, 1.0905474843114664, 1.8414942182900134, 1.8542221290354124, -0.39861807290022805, 0.07231462467953861, -0.08042030426525057, 0.16140999989733232, -0.13133194724684696, -0.22042732246464067, -0.05496448277445237, 1.9051337720170087, 0.1741379106427314, 1.7269430215814214, 2.5160734877961657, 2.5542572200323628, 0.2886891073513233, 2.210603629906587, -0.36043434066403074, 2.5415293092869637, 0.3014170180967224, 1.5996639141274305, 0.08504253542493771, 0.6705264297132962, 0.6577985189678972, -0.06769239351985147, 1.6378476463636278, 1.3196498777286503, 2.325154826615179, 2.6433525952501564, 2.5924409522685603, 2.6306246845047574, 1.052363752075269, -0.24588314395543887, 1.408745252946444, 0.7341659834402917}\n"
     ]
    }
   ],
   "source": [
    "print(set(x_train_norm[2]))"
   ]
  },
  {
   "cell_type": "code",
   "execution_count": 15,
   "metadata": {},
   "outputs": [],
   "source": [
    "from tensorflow.keras.models import Sequential\n",
    "from tensorflow.keras.layers import Dense\n",
    "\n",
    "model = Sequential([\n",
    "    Dense(128, activation='relu' , input_shape=(784,)),\n",
    "    Dense(128,activation='relu'),\n",
    "    Dense(10,activation='softmax')    \n",
    "])"
   ]
  },
  {
   "cell_type": "code",
   "execution_count": 16,
   "metadata": {},
   "outputs": [
    {
     "name": "stdout",
     "output_type": "stream",
     "text": [
      "Model: \"sequential\"\n",
      "_________________________________________________________________\n",
      "Layer (type)                 Output Shape              Param #   \n",
      "=================================================================\n",
      "dense (Dense)                (None, 128)               100480    \n",
      "_________________________________________________________________\n",
      "dense_1 (Dense)              (None, 128)               16512     \n",
      "_________________________________________________________________\n",
      "dense_2 (Dense)              (None, 10)                1290      \n",
      "=================================================================\n",
      "Total params: 118,282\n",
      "Trainable params: 118,282\n",
      "Non-trainable params: 0\n",
      "_________________________________________________________________\n"
     ]
    }
   ],
   "source": [
    "model.compile(\n",
    "    optimizer='sgd',\n",
    "    loss='categorical_crossentropy',\n",
    "    metrics=['accuracy']\n",
    ")\n",
    "model.summary()"
   ]
  },
  {
   "cell_type": "code",
   "execution_count": 17,
   "metadata": {},
   "outputs": [
    {
     "name": "stdout",
     "output_type": "stream",
     "text": [
      "Epoch 1/10\n",
      "60000/60000 [==============================] - 12s 199us/sample - loss: 0.9528 - accuracy: 0.7333\n",
      "Epoch 2/10\n",
      "60000/60000 [==============================] - 8s 134us/sample - loss: 0.4284 - accuracy: 0.8802\n",
      "Epoch 3/10\n",
      "60000/60000 [==============================] - 9s 142us/sample - loss: 0.3407 - accuracy: 0.9030\n",
      "Epoch 4/10\n",
      "60000/60000 [==============================] - 11s 181us/sample - loss: 0.2985 - accuracy: 0.9140\n",
      "Epoch 5/10\n",
      "60000/60000 [==============================] - 8s 129us/sample - loss: 0.2712 - accuracy: 0.9227\n",
      "Epoch 6/10\n",
      "60000/60000 [==============================] - 9s 152us/sample - loss: 0.2513 - accuracy: 0.9279\n",
      "Epoch 7/10\n",
      "60000/60000 [==============================] - 10s 164us/sample - loss: 0.2357 - accuracy: 0.9322\n",
      "Epoch 8/10\n",
      "60000/60000 [==============================] - 8s 132us/sample - loss: 0.2227 - accuracy: 0.9366\n",
      "Epoch 9/10\n",
      "60000/60000 [==============================] - 7s 113us/sample - loss: 0.2118 - accuracy: 0.9394\n",
      "Epoch 10/10\n",
      "60000/60000 [==============================] - 7s 110us/sample - loss: 0.2021 - accuracy: 0.9421\n"
     ]
    },
    {
     "data": {
      "text/plain": [
       "<tensorflow.python.keras.callbacks.History at 0x23c4d00dd48>"
      ]
     },
     "execution_count": 17,
     "metadata": {},
     "output_type": "execute_result"
    }
   ],
   "source": [
    "model.fit(x_train_norm,y_train_encoded,epochs=10)"
   ]
  },
  {
   "cell_type": "code",
   "execution_count": 18,
   "metadata": {},
   "outputs": [
    {
     "name": "stdout",
     "output_type": "stream",
     "text": [
      "10000/10000 [==============================] - 1s 136us/sample - loss: 0.1963 - accuracy: 0.9430\n",
      "Train set accuracy :  94.30000185966492\n"
     ]
    }
   ],
   "source": [
    "loss,accuracy= model.evaluate(x_test_norm,y_test_encoded)\n",
    "print('Train set accuracy : ',accuracy*100)"
   ]
  },
  {
   "cell_type": "code",
   "execution_count": 19,
   "metadata": {},
   "outputs": [
    {
     "name": "stdout",
     "output_type": "stream",
     "text": [
      "(10000, 10)\n"
     ]
    }
   ],
   "source": [
    "preds = model.predict(x_test_norm)\n",
    "print(preds.shape)"
   ]
  },
  {
   "cell_type": "code",
   "execution_count": 26,
   "metadata": {},
   "outputs": [
    {
     "data": {
      "image/png": "[encoded data removed]",
      "text/plain": [
       "<Figure size 864x864 with 25 Axes>"
      ]
     },
     "metadata": {},
     "output_type": "display_data"
    }
   ],
   "source": [
    "plt.figure(figsize=(12,12))\n",
    "start_index=0\n",
    "for i in range(25):\n",
    "    plt.subplot(5,5,i+1)\n",
    "    plt.grid(False)\n",
    "    plt.xticks([])\n",
    "    plt.yticks([])\n",
    "    pred=np.argmax(preds[start_index+i])\n",
    "    gt=y_test[start_index+i]\n",
    "    col='green'\n",
    "    if pred != gt:\n",
    "        col='red'\n",
    "    plt.xlabel('i={},pred={},gt={}'.format(start_index+i,pred,gt))\n",
    "    plt.imshow(x_test[start_index+i],cmap='binary')\n",
    "plt.show()"
   ]
  },
  {
   "cell_type": "code",
   "execution_count": 25,
   "metadata": {},
   "outputs": [
    {
     "data": {
      "image/png": "[encoded data removed]",
      "text/plain": [
       "<Figure size 432x288 with 1 Axes>"
      ]
     },
     "metadata": {
      "needs_background": "light"
     },
     "output_type": "display_data"
    }
   ],
   "source": [
    "plt.plot(preds[8])   #8th image is not predicted correct (image is of 5 and it predicted 6)\n",
    "plt.show()"
   ]
  }
 ],
 "metadata": {
  "kernelspec": {
   "display_name": "Python 3",
   "language": "python",
   "name": "python3"
  },
  "language_info": {
   "codemirror_mode": {
    "name": "ipython",
    "version": 3
   },
   "file_extension": ".py",
   "mimetype": "text/x-python",
   "name": "python",
   "nbconvert_exporter": "python",
   "pygments_lexer": "ipython3",
   "version": "3.7.4"
  }
 },
 "nbformat": 4,
 "nbformat_minor": 2
}
